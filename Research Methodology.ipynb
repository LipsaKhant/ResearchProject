{
 "cells": [
  {
   "cell_type": "markdown",
   "id": "spoken-level",
   "metadata": {},
   "source": [
    "# Import Libraries "
   ]
  },
  {
   "cell_type": "code",
   "execution_count": 1,
   "id": "related-holmes",
   "metadata": {},
   "outputs": [],
   "source": [
    "import numpy as np\n",
    "import pandas as pd\n",
    "\n",
    "import seaborn as sns\n",
    "import matplotlib.pyplot as plt\n",
    "%matplotlib inline\n",
    "\n",
    "import nltk \n",
    "import re\n",
    "import string"
   ]
  },
  {
   "cell_type": "markdown",
   "id": "continued-indianapolis",
   "metadata": {},
   "source": [
    "# 1. Loading Data"
   ]
  },
  {
   "cell_type": "markdown",
   "id": "actual-forum",
   "metadata": {},
   "source": [
    "## 1.A Reading data from files"
   ]
  },
  {
   "cell_type": "code",
   "execution_count": 2,
   "id": "outside-substance",
   "metadata": {},
   "outputs": [],
   "source": [
    "train_data = pd.read_csv(\"Corona_NLP_train.csv\", encoding=\"latin1\")\n",
    "test_data = pd.read_csv(\"Corona_NLP_test.csv\", encoding=\"latin1\")"
   ]
  },
  {
   "cell_type": "markdown",
   "id": "connected-mambo",
   "metadata": {},
   "source": [
    "## 1.B First insight on data"
   ]
  },
  {
   "cell_type": "code",
   "execution_count": 3,
   "id": "palestinian-emperor",
   "metadata": {},
   "outputs": [
    {
     "name": "stdout",
     "output_type": "stream",
     "text": [
      "<class 'pandas.core.frame.DataFrame'>\n",
      "RangeIndex: 41157 entries, 0 to 41156\n",
      "Data columns (total 6 columns):\n",
      " #   Column         Non-Null Count  Dtype \n",
      "---  ------         --------------  ----- \n",
      " 0   UserName       41157 non-null  int64 \n",
      " 1   ScreenName     41157 non-null  int64 \n",
      " 2   Location       32567 non-null  object\n",
      " 3   TweetAt        41157 non-null  object\n",
      " 4   OriginalTweet  41157 non-null  object\n",
      " 5   Sentiment      41157 non-null  object\n",
      "dtypes: int64(2), object(4)\n",
      "memory usage: 1.9+ MB\n"
     ]
    }
   ],
   "source": [
    "train_data.info()"
   ]
  },
  {
   "cell_type": "code",
   "execution_count": 4,
   "id": "weighted-expert",
   "metadata": {},
   "outputs": [
    {
     "name": "stdout",
     "output_type": "stream",
     "text": [
      "<class 'pandas.core.frame.DataFrame'>\n",
      "RangeIndex: 3798 entries, 0 to 3797\n",
      "Data columns (total 6 columns):\n",
      " #   Column         Non-Null Count  Dtype \n",
      "---  ------         --------------  ----- \n",
      " 0   UserName       3798 non-null   int64 \n",
      " 1   ScreenName     3798 non-null   int64 \n",
      " 2   Location       2964 non-null   object\n",
      " 3   TweetAt        3798 non-null   object\n",
      " 4   OriginalTweet  3798 non-null   object\n",
      " 5   Sentiment      3798 non-null   object\n",
      "dtypes: int64(2), object(4)\n",
      "memory usage: 178.2+ KB\n"
     ]
    }
   ],
   "source": [
    "test_data.info()"
   ]
  },
  {
   "cell_type": "code",
   "execution_count": 5,
   "id": "unlike-bullet",
   "metadata": {},
   "outputs": [
    {
     "name": "stdout",
     "output_type": "stream",
     "text": [
      "Training Data:  (41157, 6)\n"
     ]
    },
    {
     "data": {
      "text/html": [
       "<div>\n",
       "<style scoped>\n",
       "    .dataframe tbody tr th:only-of-type {\n",
       "        vertical-align: middle;\n",
       "    }\n",
       "\n",
       "    .dataframe tbody tr th {\n",
       "        vertical-align: top;\n",
       "    }\n",
       "\n",
       "    .dataframe thead th {\n",
       "        text-align: right;\n",
       "    }\n",
       "</style>\n",
       "<table border=\"1\" class=\"dataframe\">\n",
       "  <thead>\n",
       "    <tr style=\"text-align: right;\">\n",
       "      <th></th>\n",
       "      <th>UserName</th>\n",
       "      <th>ScreenName</th>\n",
       "      <th>Location</th>\n",
       "      <th>TweetAt</th>\n",
       "      <th>OriginalTweet</th>\n",
       "      <th>Sentiment</th>\n",
       "    </tr>\n",
       "  </thead>\n",
       "  <tbody>\n",
       "    <tr>\n",
       "      <th>0</th>\n",
       "      <td>3799</td>\n",
       "      <td>48751</td>\n",
       "      <td>London</td>\n",
       "      <td>16-03-2020</td>\n",
       "      <td>@MeNyrbie @Phil_Gahan @Chrisitv https://t.co/i...</td>\n",
       "      <td>Neutral</td>\n",
       "    </tr>\n",
       "    <tr>\n",
       "      <th>1</th>\n",
       "      <td>3800</td>\n",
       "      <td>48752</td>\n",
       "      <td>UK</td>\n",
       "      <td>16-03-2020</td>\n",
       "      <td>advice Talk to your neighbours family to excha...</td>\n",
       "      <td>Positive</td>\n",
       "    </tr>\n",
       "    <tr>\n",
       "      <th>2</th>\n",
       "      <td>3801</td>\n",
       "      <td>48753</td>\n",
       "      <td>Vagabonds</td>\n",
       "      <td>16-03-2020</td>\n",
       "      <td>Coronavirus Australia: Woolworths to give elde...</td>\n",
       "      <td>Positive</td>\n",
       "    </tr>\n",
       "    <tr>\n",
       "      <th>3</th>\n",
       "      <td>3802</td>\n",
       "      <td>48754</td>\n",
       "      <td>NaN</td>\n",
       "      <td>16-03-2020</td>\n",
       "      <td>My food stock is not the only one which is emp...</td>\n",
       "      <td>Positive</td>\n",
       "    </tr>\n",
       "    <tr>\n",
       "      <th>4</th>\n",
       "      <td>3803</td>\n",
       "      <td>48755</td>\n",
       "      <td>NaN</td>\n",
       "      <td>16-03-2020</td>\n",
       "      <td>Me, ready to go at supermarket during the #COV...</td>\n",
       "      <td>Extremely Negative</td>\n",
       "    </tr>\n",
       "  </tbody>\n",
       "</table>\n",
       "</div>"
      ],
      "text/plain": [
       "   UserName  ScreenName   Location     TweetAt  \\\n",
       "0      3799       48751     London  16-03-2020   \n",
       "1      3800       48752         UK  16-03-2020   \n",
       "2      3801       48753  Vagabonds  16-03-2020   \n",
       "3      3802       48754        NaN  16-03-2020   \n",
       "4      3803       48755        NaN  16-03-2020   \n",
       "\n",
       "                                       OriginalTweet           Sentiment  \n",
       "0  @MeNyrbie @Phil_Gahan @Chrisitv https://t.co/i...             Neutral  \n",
       "1  advice Talk to your neighbours family to excha...            Positive  \n",
       "2  Coronavirus Australia: Woolworths to give elde...            Positive  \n",
       "3  My food stock is not the only one which is emp...            Positive  \n",
       "4  Me, ready to go at supermarket during the #COV...  Extremely Negative  "
      ]
     },
     "execution_count": 5,
     "metadata": {},
     "output_type": "execute_result"
    }
   ],
   "source": [
    "print(\"Training Data: \", train_data.shape)\n",
    "train_data.head()"
   ]
  },
  {
   "cell_type": "code",
   "execution_count": 6,
   "id": "opposite-priest",
   "metadata": {},
   "outputs": [
    {
     "name": "stdout",
     "output_type": "stream",
     "text": [
      "Testing Data:  (3798, 6)\n"
     ]
    },
    {
     "data": {
      "text/html": [
       "<div>\n",
       "<style scoped>\n",
       "    .dataframe tbody tr th:only-of-type {\n",
       "        vertical-align: middle;\n",
       "    }\n",
       "\n",
       "    .dataframe tbody tr th {\n",
       "        vertical-align: top;\n",
       "    }\n",
       "\n",
       "    .dataframe thead th {\n",
       "        text-align: right;\n",
       "    }\n",
       "</style>\n",
       "<table border=\"1\" class=\"dataframe\">\n",
       "  <thead>\n",
       "    <tr style=\"text-align: right;\">\n",
       "      <th></th>\n",
       "      <th>UserName</th>\n",
       "      <th>ScreenName</th>\n",
       "      <th>Location</th>\n",
       "      <th>TweetAt</th>\n",
       "      <th>OriginalTweet</th>\n",
       "      <th>Sentiment</th>\n",
       "    </tr>\n",
       "  </thead>\n",
       "  <tbody>\n",
       "    <tr>\n",
       "      <th>0</th>\n",
       "      <td>1</td>\n",
       "      <td>44953</td>\n",
       "      <td>NYC</td>\n",
       "      <td>02-03-2020</td>\n",
       "      <td>TRENDING: New Yorkers encounter empty supermar...</td>\n",
       "      <td>Extremely Negative</td>\n",
       "    </tr>\n",
       "    <tr>\n",
       "      <th>1</th>\n",
       "      <td>2</td>\n",
       "      <td>44954</td>\n",
       "      <td>Seattle, WA</td>\n",
       "      <td>02-03-2020</td>\n",
       "      <td>When I couldn't find hand sanitizer at Fred Me...</td>\n",
       "      <td>Positive</td>\n",
       "    </tr>\n",
       "    <tr>\n",
       "      <th>2</th>\n",
       "      <td>3</td>\n",
       "      <td>44955</td>\n",
       "      <td>NaN</td>\n",
       "      <td>02-03-2020</td>\n",
       "      <td>Find out how you can protect yourself and love...</td>\n",
       "      <td>Extremely Positive</td>\n",
       "    </tr>\n",
       "    <tr>\n",
       "      <th>3</th>\n",
       "      <td>4</td>\n",
       "      <td>44956</td>\n",
       "      <td>Chicagoland</td>\n",
       "      <td>02-03-2020</td>\n",
       "      <td>#Panic buying hits #NewYork City as anxious sh...</td>\n",
       "      <td>Negative</td>\n",
       "    </tr>\n",
       "    <tr>\n",
       "      <th>4</th>\n",
       "      <td>5</td>\n",
       "      <td>44957</td>\n",
       "      <td>Melbourne, Victoria</td>\n",
       "      <td>03-03-2020</td>\n",
       "      <td>#toiletpaper #dunnypaper #coronavirus #coronav...</td>\n",
       "      <td>Neutral</td>\n",
       "    </tr>\n",
       "  </tbody>\n",
       "</table>\n",
       "</div>"
      ],
      "text/plain": [
       "   UserName  ScreenName             Location     TweetAt  \\\n",
       "0         1       44953                  NYC  02-03-2020   \n",
       "1         2       44954          Seattle, WA  02-03-2020   \n",
       "2         3       44955                  NaN  02-03-2020   \n",
       "3         4       44956          Chicagoland  02-03-2020   \n",
       "4         5       44957  Melbourne, Victoria  03-03-2020   \n",
       "\n",
       "                                       OriginalTweet           Sentiment  \n",
       "0  TRENDING: New Yorkers encounter empty supermar...  Extremely Negative  \n",
       "1  When I couldn't find hand sanitizer at Fred Me...            Positive  \n",
       "2  Find out how you can protect yourself and love...  Extremely Positive  \n",
       "3  #Panic buying hits #NewYork City as anxious sh...            Negative  \n",
       "4  #toiletpaper #dunnypaper #coronavirus #coronav...             Neutral  "
      ]
     },
     "execution_count": 6,
     "metadata": {},
     "output_type": "execute_result"
    }
   ],
   "source": [
    "print(\"Testing Data: \", test_data.shape)\n",
    "test_data.head()"
   ]
  },
  {
   "cell_type": "markdown",
   "id": "fifty-ontario",
   "metadata": {},
   "source": [
    "# 2. Exploratory Data Analysis"
   ]
  },
  {
   "cell_type": "markdown",
   "id": "cutting-participation",
   "metadata": {},
   "source": [
    "## Plotting Frequency for Labels present in the data "
   ]
  },
  {
   "cell_type": "code",
   "execution_count": 7,
   "id": "heavy-terrorist",
   "metadata": {},
   "outputs": [
    {
     "data": {
      "text/plain": [
       "<AxesSubplot:xlabel='Sentiment', ylabel='count'>"
      ]
     },
     "execution_count": 7,
     "metadata": {},
     "output_type": "execute_result"
    },
    {
     "data": {
      "image/png": "[encoded data removed]",
      "text/plain": [
       "<Figure size 432x288 with 1 Axes>"
      ]
     },
     "metadata": {},
     "output_type": "display_data"
    }
   ],
   "source": [
    "#Traning data\n",
    "sns.set_style('whitegrid')\n",
    "sns.countplot(x='Sentiment',data=train_data)"
   ]
  },
  {
   "cell_type": "code",
   "execution_count": 8,
   "id": "documented-dragon",
   "metadata": {},
   "outputs": [
    {
     "data": {
      "text/plain": [
       "<AxesSubplot:xlabel='Sentiment', ylabel='count'>"
      ]
     },
     "execution_count": 8,
     "metadata": {},
     "output_type": "execute_result"
    },
    {
     "data": {
      "image/png": "[encoded data removed]",
      "text/plain": [
       "<Figure size 432x288 with 1 Axes>"
      ]
     },
     "metadata": {},
     "output_type": "display_data"
    }
   ],
   "source": [
    "#Testing data\n",
    "sns.set_style('whitegrid')\n",
    "sns.countplot(x='Sentiment',data=test_data)"
   ]
  },
  {
   "cell_type": "markdown",
   "id": "serial-license",
   "metadata": {},
   "source": [
    "# 3. Data Preprocessing"
   ]
  },
  {
   "cell_type": "markdown",
   "id": "sought-season",
   "metadata": {},
   "source": [
    "## 3.A Checking out the raw tweets"
   ]
  },
  {
   "cell_type": "code",
   "execution_count": 9,
   "id": "instructional-discrimination",
   "metadata": {},
   "outputs": [],
   "source": [
    "train_tweets = train_data['OriginalTweet']\n",
    "test_tweets = test_data['OriginalTweet']"
   ]
  },
  {
   "cell_type": "code",
   "execution_count": 10,
   "id": "noted-memory",
   "metadata": {},
   "outputs": [
    {
     "data": {
      "text/plain": [
       "0    @MeNyrbie @Phil_Gahan @Chrisitv https://t.co/i...\n",
       "1    advice Talk to your neighbours family to excha...\n",
       "2    Coronavirus Australia: Woolworths to give elde...\n",
       "3    My food stock is not the only one which is emp...\n",
       "4    Me, ready to go at supermarket during the #COV...\n",
       "Name: OriginalTweet, dtype: object"
      ]
     },
     "execution_count": 10,
     "metadata": {},
     "output_type": "execute_result"
    }
   ],
   "source": [
    "train_tweets.head()"
   ]
  },
  {
   "cell_type": "code",
   "execution_count": 11,
   "id": "direct-blackberry",
   "metadata": {},
   "outputs": [
    {
     "data": {
      "text/plain": [
       "0    TRENDING: New Yorkers encounter empty supermar...\n",
       "1    When I couldn't find hand sanitizer at Fred Me...\n",
       "2    Find out how you can protect yourself and love...\n",
       "3    #Panic buying hits #NewYork City as anxious sh...\n",
       "4    #toiletpaper #dunnypaper #coronavirus #coronav...\n",
       "Name: OriginalTweet, dtype: object"
      ]
     },
     "execution_count": 11,
     "metadata": {},
     "output_type": "execute_result"
    }
   ],
   "source": [
    "test_tweets.head()"
   ]
  },
  {
   "cell_type": "markdown",
   "id": "approved-watch",
   "metadata": {},
   "source": [
    "## 3.B Cleaned/Processed Tweets"
   ]
  },
  {
   "cell_type": "code",
   "execution_count": 12,
   "id": "vocal-album",
   "metadata": {},
   "outputs": [],
   "source": [
    "# Function to preprocess the tweets\n",
    "def data_cleaning(tweet):\n",
    "    url_reg = re.compile(r\"\"\"(?i)((?:https?:(?:/{1,3}|[a-z0-9%])|[a-z0-9.\\-]+[.](?:com|net|org|edu|gov|mil|aero|asia|biz|cat|coop|info\n",
    "                      |int|jobs|mobi|museum|name|post|pro|tel|travel|xxx|ac|ad|ae|af|ag|ai|al|am|an|ao|aq|ar|as|at|au|aw|ax|az|ba|\n",
    "                      bb|bd|be|bf|bg|bh|bi|bj|bm|bn|bo|br|bs|bt|bv|bw|by|bz|ca|cc|cd|cf|cg|ch|ci|ck|cl|cm|cn|co|cr|cs|cu|cv|cx|cy|\n",
    "                      cz|dd|de|dj|dk|dm|do|dz|ec|ee|eg|eh|er|es|et|eu|fi|fj|fk|fm|fo|fr|ga|gb|gd|ge|gf|gg|gh|gi|gl|gm|gn|gp|gq|gr|\n",
    "                      gs|gt|gu|gw|gy|hk|hm|hn|hr|ht|hu|id|ie|il|im|in|io|iq|ir|is|it|je|jm|jo|jp|ke|kg|kh|ki|km|kn|kp|kr|kw|ky|kz|\n",
    "                      la|lb|lc|li|lk|lr|ls|lt|lu|lv|ly|ma|mc|md|me|mg|mh|mk|ml|mm|mn|mo|mp|mq|mr|ms|mt|mu|mv|mw|mx|my|mz|na|nc|ne|\n",
    "                      nf|ng|ni|nl|no|np|nr|nu|nz|om|pa|pe|pf|pg|ph|pk|pl|pm|pn|pr|ps|pt|pw|py|qa|re|ro|rs|ru|rw|sa|sb|sc|sd|se|sg|\n",
    "                      sh|si|sj|Ja|sk|sl|sm|sn|so|sr|ss|st|su|sv|sx|sy|sz|tc|td|tf|tg|th|tj|tk|tl|tm|tn|to|tp|tr|tt|tv|tw|tz|ua|ug|\n",
    "                      uk|us|uy|uz|va|vc|ve|vg|vi|vn|vu|wf|ws|ye|yt|yu|za|zm|zw)/)(?:[^\\s()<>{}\\[\\]]+|\\([^\\s()]*?\\([^\\s()]+\\)[^\\s()]\n",
    "                      *?\\)|\\([^\\s]+?\\))+(?:\\([^\\s()]*?\\([^\\s()]+\\)[^\\s()]*?\\)|\\([^\\s]+?\\)|[^\\s`!()\\[\\]{};:'\\\".,<>?«»“”‘’])|(?:(?<!@)\n",
    "                      [a-z0-9]+(?:[.\\-][a-z0-9]+)*[.](?:com|net|org|edu|gov|mil|aero|asia|biz|cat|coop|info|int|jobs|mobi|museum|name\n",
    "                      |post|pro|tel|travel|xxx|ac|ad|ae|af|ag|ai|al|am|an|ao|aq|ar|as|at|au|aw|ax|az|ba|bb|bd|be|bf|bg|bh|bi|bj|bm|bn\n",
    "                      |bo|br|bs|bt|bv|bw|by|bz|ca|cc|cd|cf|cg|ch|ci|ck|cl|cm|cn|co|cr|cs|cu|cv|cx|cy|cz|dd|de|dj|dk|dm|do|dz|ec|ee|eg\n",
    "                      |eh|er|es|et|eu|fi|fj|fk|fm|fo|fr|ga|gb|gd|ge|gf|gg|gh|gi|gl|gm|gn|gp|gq|gr|gs|gt|gu|gw|gy|hk|hm|hn|hr|ht|hu|id\n",
    "                      |ie|il|im|in|io|iq|ir|is|it|je|jm|jo|jp|ke|kg|kh|ki|km|kn|kp|kr|kw|ky|kz|la|lb|lc|li|lk|lr|ls|lt|lu|lv|ly|ma|mc|\n",
    "                      md|me|mg|mh|mk|ml|mm|mn|mo|mp|mq|mr|ms|mt|mu|mv|mw|mx|my|mz|na|nc|ne|nf|ng|ni|nl|no|np|nr|nu|nz|om|pa|pe|pf|pg|\n",
    "                      ph|pk|pl|pm|pn|pr|ps|pt|pw|py|qa|re|ro|rs|ru|rw|sa|sb|sc|sd|se|sg|sh|si|sj|Ja|sk|sl|sm|sn|so|sr|ss|st|su|sv|sx|\n",
    "                      sy|sz|tc|td|tf|tg|th|tj|tk|tl|tm|tn|to|tp|tr|tt|tv|tw|tz|ua|ug|uk|us|uy|uz|va|vc|ve|vg|vi|vn|vu|wf|ws|ye|yt|yu|\n",
    "                      za|zm|zw)\\b/?(?!@)))\"\"\")\n",
    "    removal_reg = re.compile(r'(<.:*?>)|(\\d+)|(#\\w+)|(@\\w+)')\n",
    "    reserved_words_reg =  re.compile(r'\\b(?<![@#])(RT|FAV)\\b')\n",
    "    spchars_reg = re.compile(r'[^a-zA-z0-9.,!?/:;\\\"\\'\\s]')\n",
    "\n",
    "    tweet = url_reg.sub('',tweet)\n",
    "    tweet = removal_reg.sub('',tweet)\n",
    "    tweet = reserved_words_reg.sub('',tweet)\n",
    "    tweet = spchars_reg.sub('',tweet)\n",
    "\n",
    "    tweet = tweet.lower()\n",
    "\n",
    "    return tweet"
   ]
  },
  {
   "cell_type": "code",
   "execution_count": 13,
   "id": "proper-father",
   "metadata": {},
   "outputs": [],
   "source": [
    "cleaned_train = train_tweets.apply(data_cleaning)\n",
    "cleaned_test = test_tweets.apply(data_cleaning)"
   ]
  },
  {
   "cell_type": "code",
   "execution_count": 14,
   "id": "persistent-remains",
   "metadata": {},
   "outputs": [
    {
     "data": {
      "text/plain": [
       "0                                            and  and \n",
       "1    advice talk to your neighbours family to excha...\n",
       "2    coronavirus australia: woolworths to give elde...\n",
       "3    my food stock is not the only one which is emp...\n",
       "4    me, ready to go at supermarket during the  out...\n",
       "Name: OriginalTweet, dtype: object"
      ]
     },
     "execution_count": 14,
     "metadata": {},
     "output_type": "execute_result"
    }
   ],
   "source": [
    "cleaned_train.head()"
   ]
  },
  {
   "cell_type": "code",
   "execution_count": 15,
   "id": "signal-florence",
   "metadata": {},
   "outputs": [
    {
     "data": {
      "text/plain": [
       "0    trending: new yorkers encounter empty supermar...\n",
       "1    when i couldn't find hand sanitizer at fred me...\n",
       "2    find out how you can protect yourself and love...\n",
       "3     buying hits  city as anxious shoppers stock u...\n",
       "4                   one week everyone buying baby m...\n",
       "Name: OriginalTweet, dtype: object"
      ]
     },
     "execution_count": 15,
     "metadata": {},
     "output_type": "execute_result"
    }
   ],
   "source": [
    "cleaned_test.head()"
   ]
  },
  {
   "cell_type": "markdown",
   "id": "usual-johnson",
   "metadata": {},
   "source": [
    "## 3.C Tokenization"
   ]
  },
  {
   "cell_type": "code",
   "execution_count": 16,
   "id": "enclosed-kansas",
   "metadata": {},
   "outputs": [
    {
     "name": "stderr",
     "output_type": "stream",
     "text": [
      "[nltk_data] Downloading package wordnet to\n",
      "[nltk_data]     C:\\Users\\user\\AppData\\Roaming\\nltk_data...\n",
      "[nltk_data]   Package wordnet is already up-to-date!\n",
      "[nltk_data] Downloading package stopwords to\n",
      "[nltk_data]     C:\\Users\\user\\AppData\\Roaming\\nltk_data...\n",
      "[nltk_data]   Package stopwords is already up-to-date!\n"
     ]
    }
   ],
   "source": [
    "nltk.download('wordnet')\n",
    "nltk.download('stopwords')\n",
    "\n",
    "from nltk.corpus import stopwords\n",
    "from nltk.tokenize import TreebankWordTokenizer, TweetTokenizer\n",
    "from nltk.stem import WordNetLemmatizer\n",
    "from nltk import FreqDist"
   ]
  },
  {
   "cell_type": "code",
   "execution_count": 17,
   "id": "caring-estonia",
   "metadata": {},
   "outputs": [],
   "source": [
    "def frequency_plotter(frequency):\n",
    "    _, top_values = zip(*frequency.most_common(500))\n",
    "    plt.figure(figsize=(12,6))\n",
    "    plt.plot(top_values)\n",
    "    plt.ylabel(\"Counts\")\n",
    "    plt.xlabel(\"Ranks\")\n",
    "    plt.xticks(np.arange(0, len(top_values)+1, 10),  rotation='vertical')\n",
    "    plt.title(\"Frequency\")\n",
    "    plt.show()"
   ]
  },
  {
   "cell_type": "code",
   "execution_count": 18,
   "id": "promising-million",
   "metadata": {},
   "outputs": [],
   "source": [
    "tokenizer = TweetTokenizer()\n",
    "\n",
    "def data_tokenizer(data, tokenizer=tokenizer):\n",
    "    return tokenizer.tokenize(data)"
   ]
  },
  {
   "cell_type": "code",
   "execution_count": 19,
   "id": "portuguese-separate",
   "metadata": {},
   "outputs": [],
   "source": [
    "final_train = cleaned_train.apply(data_tokenizer)\n",
    "final_test = cleaned_test.apply(data_tokenizer)"
   ]
  },
  {
   "cell_type": "code",
   "execution_count": 20,
   "id": "verified-watch",
   "metadata": {},
   "outputs": [
    {
     "data": {
      "text/plain": [
       "0                                           [and, and]\n",
       "1    [advice, talk, to, your, neighbours, family, t...\n",
       "2    [coronavirus, australia, :, woolworths, to, gi...\n",
       "3    [my, food, stock, is, not, the, only, one, whi...\n",
       "4    [me, ,, ready, to, go, at, supermarket, during...\n",
       "Name: OriginalTweet, dtype: object"
      ]
     },
     "execution_count": 20,
     "metadata": {},
     "output_type": "execute_result"
    }
   ],
   "source": [
    "final_train.head()"
   ]
  },
  {
   "cell_type": "code",
   "execution_count": 21,
   "id": "dangerous-kinase",
   "metadata": {},
   "outputs": [
    {
     "name": "stdout",
     "output_type": "stream",
     "text": [
      "Total Number of words in training data after raw tokenization:  1225043\n",
      "Unique words in training data after raw tokenization:  35383\n"
     ]
    },
    {
     "data": {
      "image/png": "[encoded data removed]",
      "text/plain": [
       "<Figure size 864x432 with 1 Axes>"
      ]
     },
     "metadata": {},
     "output_type": "display_data"
    }
   ],
   "source": [
    "#frequency_train\n",
    "frequency_train = FreqDist([word for row in final_train for word in row])\n",
    "\n",
    "print('Total Number of words in training data after raw tokenization: ', sum(frequency_train.values()))\n",
    "print('Unique words in training data after raw tokenization: ', len(frequency_train))\n",
    "\n",
    "frequency_plotter(frequency_train)"
   ]
  },
  {
   "cell_type": "code",
   "execution_count": 22,
   "id": "increased-morrison",
   "metadata": {},
   "outputs": [
    {
     "name": "stdout",
     "output_type": "stream",
     "text": [
      "Total Number of words in testing data after raw tokenization:  126403\n",
      "Unique words in testing data after raw tokenization:  9782\n"
     ]
    },
    {
     "data": {
      "image/png": "[encoded data removed]",
      "text/plain": [
       "<Figure size 864x432 with 1 Axes>"
      ]
     },
     "metadata": {},
     "output_type": "display_data"
    }
   ],
   "source": [
    "#frequency_test\n",
    "frequency_test = FreqDist([word for row in final_test for word in row])\n",
    "\n",
    "print('Total Number of words in testing data after raw tokenization: ', sum(frequency_test.values()))\n",
    "print('Unique words in testing data after raw tokenization: ', len(frequency_test))\n",
    "\n",
    "frequency_plotter(frequency_test)"
   ]
  },
  {
   "cell_type": "markdown",
   "id": "crucial-andrew",
   "metadata": {},
   "source": [
    "## 3.D Stopwords and Punctuation Removal"
   ]
  },
  {
   "cell_type": "code",
   "execution_count": 23,
   "id": "attended-level",
   "metadata": {},
   "outputs": [],
   "source": [
    "stopwords_english = stopwords.words('english')\n",
    "\n",
    "def data_remove_stopwords_punctuation(tokens, stopwords=stopwords_english, punctuation=string.punctuation):\n",
    "    return [token for token in tokens if token not in stopwords and token not in punctuation]"
   ]
  },
  {
   "cell_type": "code",
   "execution_count": 24,
   "id": "canadian-domestic",
   "metadata": {},
   "outputs": [],
   "source": [
    "final_train = final_train.apply(data_remove_stopwords_punctuation)\n",
    "final_test = final_test.apply(data_remove_stopwords_punctuation)"
   ]
  },
  {
   "cell_type": "code",
   "execution_count": 25,
   "id": "finished-climate",
   "metadata": {},
   "outputs": [
    {
     "name": "stdout",
     "output_type": "stream",
     "text": [
      "Total Number of words in training data after removal of stopwords and punctuation:  647911\n",
      "Unique words in training data after removal of stopwords and punctuation:  35195\n"
     ]
    },
    {
     "data": {
      "image/png": "[encoded data removed]",
      "text/plain": [
       "<Figure size 864x432 with 1 Axes>"
      ]
     },
     "metadata": {},
     "output_type": "display_data"
    }
   ],
   "source": [
    "#frequency_train\n",
    "frequency_train = FreqDist( [word for row in final_train for word in row])\n",
    "\n",
    "print('Total Number of words in training data after removal of stopwords and punctuation: ', sum(frequency_train.values()))\n",
    "print('Unique words in training data after removal of stopwords and punctuation: ', len(frequency_train))\n",
    "\n",
    "frequency_plotter(frequency_train)"
   ]
  },
  {
   "cell_type": "code",
   "execution_count": 26,
   "id": "responsible-alfred",
   "metadata": {},
   "outputs": [
    {
     "name": "stdout",
     "output_type": "stream",
     "text": [
      "Total Number of words in testing data after removal of stopwords and punctuation:  64344\n",
      "Unique words in testning data after removal of stopwords and punctuation:  9606\n"
     ]
    },
    {
     "data": {
      "image/png": "[encoded data removed]",
      "text/plain": [
       "<Figure size 864x432 with 1 Axes>"
      ]
     },
     "metadata": {},
     "output_type": "display_data"
    }
   ],
   "source": [
    "#frequency_test\n",
    "frequency_test = FreqDist( [word for row in final_test for word in row])\n",
    "\n",
    "print('Total Number of words in testing data after removal of stopwords and punctuation: ', sum(frequency_test.values()))\n",
    "print('Unique words in testning data after removal of stopwords and punctuation: ', len(frequency_test))\n",
    "\n",
    "frequency_plotter(frequency_test)"
   ]
  },
  {
   "cell_type": "markdown",
   "id": "armed-arkansas",
   "metadata": {},
   "source": [
    "## 3.E Stemming"
   ]
  },
  {
   "cell_type": "code",
   "execution_count": null,
   "id": "automated-opening",
   "metadata": {},
   "outputs": [],
   "source": [
    "from nltk.stem.porter import PorterStemmer\n",
    "stemmer = PorterStemmer()\n",
    "\n",
    "def data_stemmer(tokens, stemmer=stemmer):\n",
    "    return [stemmer.stem(token) for token in tokens]"
   ]
  },
  {
   "cell_type": "code",
   "execution_count": null,
   "id": "involved-cooking",
   "metadata": {},
   "outputs": [],
   "source": [
    "final_train = final_train.apply(data_stemmer)\n",
    "final_test = final_test.apply(data_stemmer)"
   ]
  },
  {
   "cell_type": "code",
   "execution_count": null,
   "id": "welsh-dakota",
   "metadata": {},
   "outputs": [],
   "source": [
    "#frequency_train\n",
    "\n",
    "frequency_train = FreqDist( [word for row in final_train for word in row])\n",
    "print('Total Number of words in training data after stemming: ', sum(frequency_train.values()))\n",
    "print('Unique words in training data after stemming: ', len(frequency_train))\n",
    "\n",
    "frequency_plotter(frequency_train)"
   ]
  },
  {
   "cell_type": "code",
   "execution_count": null,
   "id": "existing-martin",
   "metadata": {},
   "outputs": [],
   "source": [
    "#frequency_test\n",
    "\n",
    "frequency_test = FreqDist( [word for row in final_test for word in row])\n",
    "print('Total Number of words in testing data after stemming: ', sum(frequency_test.values()))\n",
    "print('Unique words in testing data after stemming: ', len(frequency_test))\n",
    "\n",
    "frequency_plotter(frequency_test)"
   ]
  },
  {
   "cell_type": "markdown",
   "id": "final-ghost",
   "metadata": {},
   "source": [
    "## 3.F Lemmatization"
   ]
  },
  {
   "cell_type": "code",
   "execution_count": 27,
   "id": "infrared-functionality",
   "metadata": {},
   "outputs": [],
   "source": [
    "lemmatizer = WordNetLemmatizer() \n",
    "\n",
    "def data_lemmatizer(tokens, lemmatizer=lemmatizer):\n",
    "    return [lemmatizer.lemmatize(token) for token in tokens]"
   ]
  },
  {
   "cell_type": "code",
   "execution_count": 28,
   "id": "certain-presence",
   "metadata": {},
   "outputs": [],
   "source": [
    "final_train = final_train.apply(data_lemmatizer)\n",
    "final_test = final_test.apply(data_lemmatizer)"
   ]
  },
  {
   "cell_type": "code",
   "execution_count": 29,
   "id": "younger-poultry",
   "metadata": {},
   "outputs": [
    {
     "name": "stdout",
     "output_type": "stream",
     "text": [
      "Total Number of words in training data after lemmatizer:  647911\n",
      "Unique words in training data after lemmatizer:  31595\n"
     ]
    },
    {
     "data": {
      "image/png": "[encoded data removed]",
      "text/plain": [
       "<Figure size 864x432 with 1 Axes>"
      ]
     },
     "metadata": {},
     "output_type": "display_data"
    }
   ],
   "source": [
    "#frequency_train\n",
    "\n",
    "frequency_train = FreqDist( [word for row in final_train for word in row])\n",
    "print('Total Number of words in training data after lemmatizer: ', sum(frequency_train.values()))\n",
    "print('Unique words in training data after lemmatizer: ', len(frequency_train))\n",
    "\n",
    "frequency_plotter(frequency_train)"
   ]
  },
  {
   "cell_type": "code",
   "execution_count": 30,
   "id": "personal-working",
   "metadata": {},
   "outputs": [
    {
     "name": "stdout",
     "output_type": "stream",
     "text": [
      "Total Number of words in testing data after stemming:  64344\n",
      "Unique words in testing data after stemming:  8566\n"
     ]
    },
    {
     "data": {
      "image/png": "[encoded data removed]",
      "text/plain": [
       "<Figure size 864x432 with 1 Axes>"
      ]
     },
     "metadata": {},
     "output_type": "display_data"
    }
   ],
   "source": [
    "#frequency_test\n",
    "\n",
    "frequency_test = FreqDist( [word for row in final_test for word in row])\n",
    "print('Total Number of words in testing data after stemming: ', sum(frequency_test.values()))\n",
    "print('Unique words in testing data after stemming: ', len(frequency_test))\n",
    "\n",
    "frequency_plotter(frequency_test)"
   ]
  },
  {
   "cell_type": "markdown",
   "id": "rotary-gather",
   "metadata": {},
   "source": [
    "# Baseline Models"
   ]
  },
  {
   "cell_type": "code",
   "execution_count": 31,
   "id": "available-indonesian",
   "metadata": {},
   "outputs": [],
   "source": [
    "from sklearn.feature_extraction.text import TfidfVectorizer, CountVectorizer"
   ]
  },
  {
   "cell_type": "code",
   "execution_count": 32,
   "id": "difficult-swiss",
   "metadata": {},
   "outputs": [],
   "source": [
    "def data_join(tokens):\n",
    "    return ' '.join(tokens)"
   ]
  },
  {
   "cell_type": "code",
   "execution_count": 33,
   "id": "healthy-process",
   "metadata": {},
   "outputs": [],
   "source": [
    "\n",
    "count_vectorizer = CountVectorizer(min_df=4, ngram_range=(1,2))\n",
    "tf_idf_vectorizer = TfidfVectorizer(sublinear_tf=True, min_df=4, ngram_range=(1,2))\n"
   ]
  },
  {
   "cell_type": "code",
   "execution_count": 34,
   "id": "weekly-resort",
   "metadata": {},
   "outputs": [
    {
     "data": {
      "text/plain": [
       "0                                                         \n",
       "1        advice talk neighbour family exchange phone nu...\n",
       "2        coronavirus australia woolworth give elderly d...\n",
       "3        food stock one empty ... please panic enough f...\n",
       "4        ready go supermarket outbreak i'm paranoid foo...\n",
       "                               ...                        \n",
       "41152    airline pilot offering stock supermarket shelf...\n",
       "41153    response complaint provided citing covid relat...\n",
       "41154    know getting tough rationing toilet paper mart...\n",
       "41155             wrong smell hand sanitizer starting turn\n",
       "41156    well new used rift going amazon rn although no...\n",
       "Name: OriginalTweet, Length: 41157, dtype: object"
      ]
     },
     "execution_count": 34,
     "metadata": {},
     "output_type": "execute_result"
    }
   ],
   "source": [
    "train_long, test_long = final_train.apply(data_join), final_test.apply(data_join)\n",
    "train_long\n",
    "# train_count = count_vectorizer.fit_transform(train_long)\n",
    "# train_count = train_count.reshape(-1,1)\n",
    "# test_count = count_vectorizer.transform(test_long)\n",
    "# test_count = train_count.reshape(-1,1)"
   ]
  },
  {
   "cell_type": "code",
   "execution_count": 35,
   "id": "minute-library",
   "metadata": {},
   "outputs": [],
   "source": [
    "\n",
    "train_tf_idf = tf_idf_vectorizer.fit_transform(train_long)\n",
    "#rain_tf_idf_x = train_tf_idf.reshape(-1,1)\n",
    "test_tf_idf = tf_idf_vectorizer.transform(test_long)\n",
    "#test_tf_idf = test_tf_idf.reshape(-1,1)\n"
   ]
  },
  {
   "cell_type": "code",
   "execution_count": 36,
   "id": "preliminary-remedy",
   "metadata": {},
   "outputs": [
    {
     "data": {
      "text/plain": [
       "<41157x28685 sparse matrix of type '<class 'numpy.float64'>'\n",
       "\twith 784241 stored elements in Compressed Sparse Row format>"
      ]
     },
     "execution_count": 36,
     "metadata": {},
     "output_type": "execute_result"
    }
   ],
   "source": [
    "train_tf_idf"
   ]
  },
  {
   "cell_type": "markdown",
   "id": "powerful-seminar",
   "metadata": {},
   "source": [
    "## Encoding the polarity"
   ]
  },
  {
   "cell_type": "code",
   "execution_count": 37,
   "id": "lovely-antibody",
   "metadata": {},
   "outputs": [],
   "source": [
    "from sklearn.preprocessing import LabelEncoder, OneHotEncoder"
   ]
  },
  {
   "cell_type": "code",
   "execution_count": 38,
   "id": "sunset-citation",
   "metadata": {},
   "outputs": [],
   "source": [
    "train_labels = train_data['Sentiment']\n",
    "test_labels = test_data['Sentiment']"
   ]
  },
  {
   "cell_type": "code",
   "execution_count": 39,
   "id": "sexual-motor",
   "metadata": {},
   "outputs": [
    {
     "name": "stdout",
     "output_type": "stream",
     "text": [
      "Label Encoder Classes:  ['Extremely Negative' 'Extremely Positive' 'Negative' 'Neutral' 'Positive']\n",
      "One Hot Encoder Categories:  [array(['Extremely Negative', 'Extremely Positive', 'Negative', 'Neutral',\n",
      "       'Positive'], dtype=object)]\n"
     ]
    }
   ],
   "source": [
    "le = LabelEncoder()\n",
    "le.fit(train_labels)\n",
    "print('Label Encoder Classes: ', le.classes_)\n",
    "\n",
    "train_labels_numpy = np.reshape(train_labels.to_numpy(), (-1, 1))\n",
    "ohe = OneHotEncoder()\n",
    "ohe.fit(train_labels_numpy)\n",
    "print('One Hot Encoder Categories: ', ohe.categories_)"
   ]
  },
  {
   "cell_type": "code",
   "execution_count": 40,
   "id": "plain-discrimination",
   "metadata": {},
   "outputs": [
    {
     "name": "stdout",
     "output_type": "stream",
     "text": [
      "Training:  [3 4 4 ... 4 3 2]\n",
      "Testing :  [0 4 1 ... 3 0 1]\n"
     ]
    }
   ],
   "source": [
    "train_le, test_le = le.transform(train_labels), le.transform(test_labels)\n",
    "print('Training: ', train_le)\n",
    "print('Testing : ', test_le)"
   ]
  },
  {
   "cell_type": "code",
   "execution_count": 41,
   "id": "organized-oxford",
   "metadata": {},
   "outputs": [
    {
     "name": "stdout",
     "output_type": "stream",
     "text": [
      "Training:    (0, 3)\t1.0\n",
      "  (1, 4)\t1.0\n",
      "  (2, 4)\t1.0\n",
      "  (3, 4)\t1.0\n",
      "  (4, 0)\t1.0\n",
      "  (5, 4)\t1.0\n",
      "  (6, 4)\t1.0\n",
      "  (7, 3)\t1.0\n",
      "  (8, 4)\t1.0\n",
      "  (9, 2)\t1.0\n",
      "  (10, 3)\t1.0\n",
      "  (11, 1)\t1.0\n",
      "  (12, 1)\t1.0\n",
      "  (13, 4)\t1.0\n",
      "  (14, 4)\t1.0\n",
      "  (15, 4)\t1.0\n",
      "  (16, 3)\t1.0\n",
      "  (17, 3)\t1.0\n",
      "  (18, 1)\t1.0\n",
      "  (19, 4)\t1.0\n",
      "  (20, 0)\t1.0\n",
      "  (21, 3)\t1.0\n",
      "  (22, 1)\t1.0\n",
      "  (23, 1)\t1.0\n",
      "  (24, 2)\t1.0\n",
      "  :\t:\n",
      "  (41132, 3)\t1.0\n",
      "  (41133, 0)\t1.0\n",
      "  (41134, 3)\t1.0\n",
      "  (41135, 4)\t1.0\n",
      "  (41136, 3)\t1.0\n",
      "  (41137, 1)\t1.0\n",
      "  (41138, 1)\t1.0\n",
      "  (41139, 4)\t1.0\n",
      "  (41140, 4)\t1.0\n",
      "  (41141, 3)\t1.0\n",
      "  (41142, 1)\t1.0\n",
      "  (41143, 3)\t1.0\n",
      "  (41144, 3)\t1.0\n",
      "  (41145, 4)\t1.0\n",
      "  (41146, 4)\t1.0\n",
      "  (41147, 2)\t1.0\n",
      "  (41148, 1)\t1.0\n",
      "  (41149, 2)\t1.0\n",
      "  (41150, 4)\t1.0\n",
      "  (41151, 1)\t1.0\n",
      "  (41152, 3)\t1.0\n",
      "  (41153, 0)\t1.0\n",
      "  (41154, 4)\t1.0\n",
      "  (41155, 3)\t1.0\n",
      "  (41156, 2)\t1.0\n",
      "Testing:    (0, 3)\t1.0\n",
      "  (1, 4)\t1.0\n",
      "  (2, 4)\t1.0\n",
      "  (3, 4)\t1.0\n",
      "  (4, 0)\t1.0\n",
      "  (5, 4)\t1.0\n",
      "  (6, 4)\t1.0\n",
      "  (7, 3)\t1.0\n",
      "  (8, 4)\t1.0\n",
      "  (9, 2)\t1.0\n",
      "  (10, 3)\t1.0\n",
      "  (11, 1)\t1.0\n",
      "  (12, 1)\t1.0\n",
      "  (13, 4)\t1.0\n",
      "  (14, 4)\t1.0\n",
      "  (15, 4)\t1.0\n",
      "  (16, 3)\t1.0\n",
      "  (17, 3)\t1.0\n",
      "  (18, 1)\t1.0\n",
      "  (19, 4)\t1.0\n",
      "  (20, 0)\t1.0\n",
      "  (21, 3)\t1.0\n",
      "  (22, 1)\t1.0\n",
      "  (23, 1)\t1.0\n",
      "  (24, 2)\t1.0\n",
      "  :\t:\n",
      "  (41132, 3)\t1.0\n",
      "  (41133, 0)\t1.0\n",
      "  (41134, 3)\t1.0\n",
      "  (41135, 4)\t1.0\n",
      "  (41136, 3)\t1.0\n",
      "  (41137, 1)\t1.0\n",
      "  (41138, 1)\t1.0\n",
      "  (41139, 4)\t1.0\n",
      "  (41140, 4)\t1.0\n",
      "  (41141, 3)\t1.0\n",
      "  (41142, 1)\t1.0\n",
      "  (41143, 3)\t1.0\n",
      "  (41144, 3)\t1.0\n",
      "  (41145, 4)\t1.0\n",
      "  (41146, 4)\t1.0\n",
      "  (41147, 2)\t1.0\n",
      "  (41148, 1)\t1.0\n",
      "  (41149, 2)\t1.0\n",
      "  (41150, 4)\t1.0\n",
      "  (41151, 1)\t1.0\n",
      "  (41152, 3)\t1.0\n",
      "  (41153, 0)\t1.0\n",
      "  (41154, 4)\t1.0\n",
      "  (41155, 3)\t1.0\n",
      "  (41156, 2)\t1.0\n"
     ]
    }
   ],
   "source": [
    "train_ohe, test_ohe = ohe.transform(train_labels_numpy), ohe.transform(train_labels_numpy)\n",
    "print('Training: ', train_ohe)\n",
    "print('Testing: ', test_ohe)"
   ]
  },
  {
   "cell_type": "code",
   "execution_count": 42,
   "id": "increased-grammar",
   "metadata": {},
   "outputs": [],
   "source": [
    "X_train, Y_train, X_test, Y_test= train_tf_idf, train_le, test_tf_idf, test_le"
   ]
  },
  {
   "cell_type": "code",
   "execution_count": 43,
   "id": "soviet-division",
   "metadata": {},
   "outputs": [],
   "source": [
    "from sklearn.naive_bayes import MultinomialNB\n",
    "from sklearn.ensemble import RandomForestClassifier\n",
    "from sklearn.svm import LinearSVC\n",
    "from sklearn.linear_model import LogisticRegression\n",
    "from sklearn.metrics import accuracy_score, confusion_matrix, classification_report"
   ]
  },
  {
   "cell_type": "markdown",
   "id": "collected-animal",
   "metadata": {},
   "source": [
    "## 1. Naive Bayes"
   ]
  },
  {
   "cell_type": "code",
   "execution_count": 44,
   "id": "latin-skiing",
   "metadata": {},
   "outputs": [
    {
     "name": "stdout",
     "output_type": "stream",
     "text": [
      "[[177   7 303  17  88]\n",
      " [ 10 192  79  11 307]\n",
      " [121  31 484  60 345]\n",
      " [ 28  24 133 242 192]\n",
      " [ 38 104 223  55 527]]\n",
      "\n",
      "\n",
      "              precision    recall  f1-score   support\n",
      "\n",
      "           0       0.47      0.30      0.37       592\n",
      "           1       0.54      0.32      0.40       599\n",
      "           2       0.40      0.46      0.43      1041\n",
      "           3       0.63      0.39      0.48       619\n",
      "           4       0.36      0.56      0.44       947\n",
      "\n",
      "    accuracy                           0.43      3798\n",
      "   macro avg       0.48      0.41      0.42      3798\n",
      "weighted avg       0.46      0.43      0.43      3798\n",
      "\n"
     ]
    }
   ],
   "source": [
    "classifier = MultinomialNB(alpha=1e-2).fit(X_train, Y_train)\n",
    "y_pred = classifier.predict(X_test)\n",
    "\n",
    "print(confusion_matrix(Y_test,y_pred))\n",
    "print('\\n')\n",
    "print(classification_report(Y_test,y_pred))"
   ]
  },
  {
   "cell_type": "markdown",
   "id": "atomic-receiver",
   "metadata": {},
   "source": [
    "## 2. Random Forest"
   ]
  },
  {
   "cell_type": "code",
   "execution_count": 45,
   "id": "incoming-humidity",
   "metadata": {},
   "outputs": [
    {
     "name": "stdout",
     "output_type": "stream",
     "text": [
      "[[203   7 259  43  80]\n",
      " [ 12 225  41  18 303]\n",
      " [ 99  22 487 174 259]\n",
      " [  4   4  74 441  96]\n",
      " [ 26  70 144 139 568]]\n",
      "\n",
      "\n",
      "              precision    recall  f1-score   support\n",
      "\n",
      "           0       0.59      0.34      0.43       592\n",
      "           1       0.69      0.38      0.49       599\n",
      "           2       0.48      0.47      0.48      1041\n",
      "           3       0.54      0.71      0.62       619\n",
      "           4       0.43      0.60      0.50       947\n",
      "\n",
      "    accuracy                           0.51      3798\n",
      "   macro avg       0.55      0.50      0.50      3798\n",
      "weighted avg       0.53      0.51      0.50      3798\n",
      "\n"
     ]
    }
   ],
   "source": [
    "classifier = RandomForestClassifier(n_estimators=100, random_state=0).fit(X_train, Y_train)\n",
    "y_pred = classifier.predict(X_test)\n",
    "\n",
    "print(confusion_matrix(Y_test,y_pred))\n",
    "print('\\n')\n",
    "print(classification_report(Y_test,y_pred))"
   ]
  },
  {
   "cell_type": "markdown",
   "id": "dying-royal",
   "metadata": {},
   "source": [
    "## 3. SVM"
   ]
  },
  {
   "cell_type": "code",
   "execution_count": 46,
   "id": "adequate-domestic",
   "metadata": {},
   "outputs": [
    {
     "name": "stdout",
     "output_type": "stream",
     "text": [
      "[[317   5 215  23  32]\n",
      " [  4 364  36   7 188]\n",
      " [196  39 443 130 233]\n",
      " [ 14  14  95 392 104]\n",
      " [ 35 170 162  96 484]]\n",
      "\n",
      "\n",
      "              precision    recall  f1-score   support\n",
      "\n",
      "           0       0.56      0.54      0.55       592\n",
      "           1       0.61      0.61      0.61       599\n",
      "           2       0.47      0.43      0.44      1041\n",
      "           3       0.60      0.63      0.62       619\n",
      "           4       0.46      0.51      0.49       947\n",
      "\n",
      "    accuracy                           0.53      3798\n",
      "   macro avg       0.54      0.54      0.54      3798\n",
      "weighted avg       0.53      0.53      0.53      3798\n",
      "\n"
     ]
    }
   ],
   "source": [
    "classifier = LinearSVC(random_state=0, max_iter=2000).fit(X_train, Y_train)\n",
    "y_pred = classifier.predict(X_test)\n",
    "\n",
    "print(confusion_matrix(Y_test,y_pred))\n",
    "print('\\n')\n",
    "print(classification_report(Y_test,y_pred))"
   ]
  },
  {
   "cell_type": "markdown",
   "id": "demographic-durham",
   "metadata": {},
   "source": [
    "## 4. Logistic Regression"
   ]
  },
  {
   "cell_type": "code",
   "execution_count": 47,
   "id": "aware-college",
   "metadata": {},
   "outputs": [
    {
     "name": "stdout",
     "output_type": "stream",
     "text": [
      "[[265   8 265  23  31]\n",
      " [  6 308  25  14 246]\n",
      " [127  26 521 126 241]\n",
      " [  5   7 100 394 113]\n",
      " [ 29 105 142  86 585]]\n",
      "\n",
      "\n",
      "              precision    recall  f1-score   support\n",
      "\n",
      "           0       0.61      0.45      0.52       592\n",
      "           1       0.68      0.51      0.58       599\n",
      "           2       0.49      0.50      0.50      1041\n",
      "           3       0.61      0.64      0.62       619\n",
      "           4       0.48      0.62      0.54       947\n",
      "\n",
      "    accuracy                           0.55      3798\n",
      "   macro avg       0.58      0.54      0.55      3798\n",
      "weighted avg       0.56      0.55      0.55      3798\n",
      "\n"
     ]
    }
   ],
   "source": [
    "classifier = LogisticRegression(n_jobs=-1, C=1, random_state=0).fit(X_train, Y_train)\n",
    "\n",
    "y_pred = classifier.predict(X_test)\n",
    "\n",
    "print(confusion_matrix(Y_test,y_pred))\n",
    "print('\\n')\n",
    "print(classification_report(Y_test,y_pred))"
   ]
  },
  {
   "cell_type": "code",
   "execution_count": null,
   "id": "clinical-folks",
   "metadata": {},
   "outputs": [],
   "source": []
  }
 ],
 "metadata": {
  "kernelspec": {
   "display_name": "Python 3",
   "language": "python",
   "name": "python3"
  },
  "language_info": {
   "codemirror_mode": {
    "name": "ipython",
    "version": 3
   },
   "file_extension": ".py",
   "mimetype": "text/x-python",
   "name": "python",
   "nbconvert_exporter": "python",
   "pygments_lexer": "ipython3",
   "version": "3.7.9"
  }
 },
 "nbformat": 4,
 "nbformat_minor": 5
}
